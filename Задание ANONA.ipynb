{
 "cells": [
  {
   "cell_type": "markdown",
   "metadata": {},
   "source": [
    "Данные и библиотеки"
   ]
  },
  {
   "cell_type": "code",
   "execution_count": 19,
   "metadata": {},
   "outputs": [],
   "source": [
    "%matplotlib inline\n",
    "import scipy.stats as st\n",
    "import numpy as np"
   ]
  },
  {
   "cell_type": "code",
   "execution_count": null,
   "metadata": {},
   "outputs": [],
   "source": [
    "# нулевая гипотеза: \"Фактор пола при определении доли населения \n",
    "# считается несущественым\""
   ]
  },
  {
   "cell_type": "code",
   "execution_count": 15,
   "metadata": {},
   "outputs": [],
   "source": [
    "men = np.array([47, 47, 45, 45, 46, 47, 47, 47, 47, 47, 47, 46, 46, 46, 46, 46, 46, 46, 46, 46, 46, 46, 46, 46, 46, 46, 46, 46])\n",
    "woman = np.array([53, 53, 55, 55, 54, 53, 53, 53, 53, 53, 53, 54, 54, 54, 54, 54, 54, 54, 54, 54, 54, 54, 54, 54, 54, 54, 54, 54])\n"
   ]
  },
  {
   "cell_type": "code",
   "execution_count": 16,
   "metadata": {},
   "outputs": [
    {
     "name": "stdout",
     "output_type": "stream",
     "text": [
      "F_onewayResult(statistic=2486.6557377049157, pvalue=7.573974346345127e-47)\n"
     ]
    }
   ],
   "source": [
    "stats = st.f_oneway(men, woman) #однофакторный дисперсионный анализ\n",
    "print(stats)"
   ]
  },
  {
   "cell_type": "code",
   "execution_count": 17,
   "metadata": {},
   "outputs": [],
   "source": [
    "#Поскольку p-значение меньше 0,05 мы отвергаем нулевую гипотезу\n",
    "# фактор пола при определении доли населения является определяющим"
   ]
  },
  {
   "cell_type": "code",
   "execution_count": 17,
   "metadata": {},
   "outputs": [
    {
     "name": "stdout",
     "output_type": "stream",
     "text": [
      "Доля численности мужчин и доля численности женщин различна\n"
     ]
    }
   ],
   "source": [
    "# проведем парный тест t-критерия Стьюдента: \n",
    "if stats[1] < 0.05:# при достоверности 95%\n",
    "    if st.ttest_ind(men, woman)[1] < 0.05/2:\n",
    "        print(\"Доля численности мужчин и доля численности женщин различна\")\n",
    "else:\n",
    "    print (\"Различий нет\")"
   ]
  }
 ],
 "metadata": {
  "kernelspec": {
   "display_name": "Python 3 (ipykernel)",
   "language": "python",
   "name": "python3"
  },
  "language_info": {
   "codemirror_mode": {
    "name": "ipython",
    "version": 3
   },
   "file_extension": ".py",
   "mimetype": "text/x-python",
   "name": "python",
   "nbconvert_exporter": "python",
   "pygments_lexer": "ipython3",
   "version": "3.9.13"
  }
 },
 "nbformat": 4,
 "nbformat_minor": 4
}
